{
 "cells": [
  {
   "cell_type": "code",
   "execution_count": 35,
   "metadata": {},
   "outputs": [],
   "source": [
    "import pandas as pd\n",
    "import numpy as np\n",
    "#import matplotlib.pyplot as plt \n",
    "#import seaborn as sns\n",
    "#import plotly.express as px\n",
    "from pprint import pprint\n",
    "\n",
    "from sklearn.ensemble import RandomForestRegressor, GradientBoostingRegressor\n",
    "import lightgbm as lgb\n",
    "\n",
    "from sklearn.model_selection import RandomizedSearchCV, train_test_split\n",
    "from sklearn.metrics import mean_squared_error, r2_score, mean_absolute_error\n",
    "\n",
    "from functions import df_engineered, r2rmse_scores\n",
    "\n",
    "import pickle\n",
    "import time"
   ]
  },
  {
   "cell_type": "code",
   "execution_count": 2,
   "metadata": {},
   "outputs": [],
   "source": [
    "feature_selection = ['ExterQual', 'BsmtQual', 'KitchenQual', 'OverallQual', \n",
    "                    'GrLivArea', 'TotalBsmtSF', 'GarageArea', 'FullBath', \n",
    "                    'HouseAge', 'TotRmsAbvGrd', 'OverallCond',  'FlrSF1st', 'FlrSF2nd',\n",
    "                    'Fireplaces', 'HasFireplace','LotFrontage', 'LotArea', 'MSSubClass', 'GoodGarageType', \n",
    "                    'BsmtUnfSF', 'Zone', 'Location', 'CulDSac', 'ExQual', 'RemodAge', 'LargerHouse', \n",
    "                    'Remod', 'ExBsmtQual', 'TwoStory', 'TotalSF', 'RoadRail', 'ExKitchen', 'CentralAir',\n",
    "                    'TotalBath', 'Exterior1st_top']\n",
    "                        "
   ]
  },
  {
   "cell_type": "code",
   "execution_count": 3,
   "metadata": {},
   "outputs": [
    {
     "name": "stdout",
     "output_type": "stream",
     "text": [
      "df shape: (2580, 80)\n"
     ]
    }
   ],
   "source": [
    "df = pd.read_csv('data/Ames_Housing_Price_Data.csv', index_col=0).iloc[:,1:]\n",
    "print('df shape:', df.shape)\n",
    "\n",
    "data = df_engineered(df, Reg=False)"
   ]
  },
  {
   "cell_type": "code",
   "execution_count": 4,
   "metadata": {},
   "outputs": [],
   "source": [
    "X_train, X_test, y_train, y_test = train_test_split(data[feature_selection], data['SalePrice'], test_size=0.30, random_state=42)"
   ]
  },
  {
   "cell_type": "markdown",
   "metadata": {},
   "source": [
    "## Random Forest"
   ]
  },
  {
   "cell_type": "markdown",
   "metadata": {},
   "source": [
    "#### Untuned model"
   ]
  },
  {
   "cell_type": "code",
   "execution_count": 5,
   "metadata": {},
   "outputs": [
    {
     "name": "stdout",
     "output_type": "stream",
     "text": [
      "--------------------------------------------------\n",
      "5-fold Cross Validation Scoring\n",
      "Mean R^2 score: 0.9308136758403526\n",
      "Mean RMSE score: 18403.94321454822\n",
      "--------------------------------------------------\n"
     ]
    }
   ],
   "source": [
    "rf_untuned = GradientBoostingRegressor(random_state=42)\n",
    "rf_untuned.fit(X_train, y_train)\n",
    "\n",
    "r2rmse_scores(rf_untuned, X_train, y_train)"
   ]
  },
  {
   "cell_type": "code",
   "execution_count": 6,
   "metadata": {},
   "outputs": [
    {
     "name": "stdout",
     "output_type": "stream",
     "text": [
      "12666.367773469008\n",
      "20022.1534682249\n"
     ]
    }
   ],
   "source": [
    "yhat_train = rf_untuned.predict(X_train)\n",
    "yhat_test = rf_untuned.predict(X_test)\n",
    "\n",
    "train_mse_non_log = mean_squared_error(y_train, yhat_train, squared=False)\n",
    "test_mse_non_log = mean_squared_error(y_test, yhat_test, squared=False)\n",
    "\n",
    "print(train_mse_non_log)\n",
    "print(test_mse_non_log)"
   ]
  },
  {
   "cell_type": "markdown",
   "metadata": {},
   "source": [
    "#### Tuned Model"
   ]
  },
  {
   "cell_type": "code",
   "execution_count": 7,
   "metadata": {},
   "outputs": [
    {
     "name": "stdout",
     "output_type": "stream",
     "text": [
      "[{'bootstrap': [True, False],\n",
      "  'max_features': ['sqrt', 'log2'],\n",
      "  'min_samples_split': [2, 5, 10, 15],\n",
      "  'n_estimators': [90, 91, 92, 93, 94, 95, 96, 97, 98, 100]},\n",
      " {'bootstrap': [True, False],\n",
      "  'max_features': ['sqrt', 'log2'],\n",
      "  'min_samples_leaf': [4, 8, 12, 15],\n",
      "  'n_estimators': [90, 91, 92, 93, 94, 95, 96, 97, 98, 100]}]\n"
     ]
    }
   ],
   "source": [
    "n_estimators = [int(x) for x in np.linspace(start = 90, stop = 100, num = 10)]\n",
    "max_features = ['sqrt', 'log2']\n",
    "max_depth = [int(x) for x in np.linspace(3, 10, num = 7)]\n",
    "min_samples_split = [2, 5, 10, 15]\n",
    "min_samples_leaf = [4, 8, 12, 15]\n",
    "bootstrap = [True, False]\n",
    "\n",
    "\n",
    "random_grid = [{'n_estimators': n_estimators,\n",
    "               'max_features': max_features,\n",
    "               'bootstrap': bootstrap,\n",
    "               'max_features':max_features,\n",
    "               'min_samples_split': min_samples_split},\n",
    "               {\n",
    "               'n_estimators': n_estimators,\n",
    "               'max_features': max_features,\n",
    "               'bootstrap': bootstrap,   \n",
    "               'max_features':max_features,\n",
    "               'min_samples_leaf': min_samples_leaf}]\n",
    "\n",
    "pprint(random_grid)"
   ]
  },
  {
   "cell_type": "code",
   "execution_count": 8,
   "metadata": {},
   "outputs": [
    {
     "name": "stdout",
     "output_type": "stream",
     "text": [
      "Fitting 3 folds for each of 100 candidates, totalling 300 fits\n",
      "Fitting 3 folds for each of 100 candidates, totalling 300 fits\n",
      "Fitting 3 folds for each of 100 candidates, totalling 300 fits\n",
      "Fitting 3 folds for each of 100 candidates, totalling 300 fits\n",
      "Fitting 3 folds for each of 100 candidates, totalling 300 fits\n",
      "Fitting 3 folds for each of 100 candidates, totalling 300 fits\n",
      "Fitting 3 folds for each of 100 candidates, totalling 300 fits\n",
      "Fitting 3 folds for each of 100 candidates, totalling 300 fits\n",
      "Fitting 3 folds for each of 100 candidates, totalling 300 fits\n",
      "Fitting 3 folds for each of 100 candidates, totalling 300 fits\n",
      "Fitting 3 folds for each of 100 candidates, totalling 300 fits\n",
      "--------------------------------------------------\n",
      "5-fold Cross Validation Scoring\n",
      "Mean R^2 score: 0.9193211143372606\n",
      "Mean RMSE score: 19911.49854168351\n",
      "--------------------------------------------------\n"
     ]
    }
   ],
   "source": [
    "rf = RandomForestRegressor(random_state=42)\n",
    "\n",
    "rf_random = RandomizedSearchCV(estimator=rf, \n",
    "                               param_distributions=random_grid, \n",
    "                               n_iter=100, \n",
    "                               cv=3, \n",
    "                               verbose=1, \n",
    "                               random_state=42, \n",
    "                               n_jobs = -1)\n",
    "\n",
    "rf_random.fit(X_train, y_train)\n",
    "\n",
    "r2rmse_scores(rf_random, X_train, y_train)"
   ]
  },
  {
   "cell_type": "code",
   "execution_count": 9,
   "metadata": {},
   "outputs": [
    {
     "name": "stdout",
     "output_type": "stream",
     "text": [
      "198.1425898595034\n",
      "19991.636674466707\n"
     ]
    }
   ],
   "source": [
    "yhat_train = rf_random.predict(X_train)\n",
    "yhat_test = rf_random.predict(X_test)\n",
    "\n",
    "train_mse_non_log = mean_squared_error(y_train, yhat_train, squared=False)\n",
    "test_mse_non_log = mean_squared_error(y_test, yhat_test, squared=False)\n",
    "\n",
    "print(train_mse_non_log)\n",
    "print(test_mse_non_log)"
   ]
  },
  {
   "cell_type": "markdown",
   "metadata": {},
   "source": [
    "#### Save best model"
   ]
  },
  {
   "cell_type": "code",
   "execution_count": 10,
   "metadata": {},
   "outputs": [],
   "source": [
    "#file_name = \"rf_reg_{}.pkl\".format(time.strftime(\"%Y%m%d-%H.%M.%S\"))\n",
    "\n",
    "# save\n",
    "#pickle.dump(rf_random, open(file_name, \"wb\"))\n",
    "\n",
    "# load\n",
    "file_name='rf_reg_20230719-14.40.17.pkl'\n",
    "rf_model_loaded = pickle.load(open(file_name, \"rb\"))"
   ]
  },
  {
   "cell_type": "code",
   "execution_count": 11,
   "metadata": {},
   "outputs": [
    {
     "name": "stdout",
     "output_type": "stream",
     "text": [
      "198.0014632889261\n",
      "19859.061651746244\n"
     ]
    }
   ],
   "source": [
    "yhat_train = rf_model_loaded.predict(X_train)\n",
    "yhat_test = rf_model_loaded.predict(X_test)\n",
    "\n",
    "train_mse_non_log = mean_squared_error(y_train, yhat_train, squared=False)\n",
    "test_mse_non_log = mean_squared_error(y_test, yhat_test, squared=False)\n",
    "\n",
    "print(train_mse_non_log)\n",
    "print(test_mse_non_log)"
   ]
  },
  {
   "cell_type": "markdown",
   "metadata": {},
   "source": [
    "## XGBoost sklearn"
   ]
  },
  {
   "cell_type": "markdown",
   "metadata": {},
   "source": [
    "#### Untuned model"
   ]
  },
  {
   "cell_type": "code",
   "execution_count": 12,
   "metadata": {},
   "outputs": [
    {
     "name": "stdout",
     "output_type": "stream",
     "text": [
      "--------------------------------------------------\n",
      "5-fold Cross Validation Scoring\n",
      "Mean R^2 score: 0.9308136758403526\n",
      "Mean RMSE score: 18403.94321454822\n",
      "--------------------------------------------------\n"
     ]
    }
   ],
   "source": [
    "xgb_untuned = GradientBoostingRegressor(random_state=42)\n",
    "xgb_untuned.fit(X_train, y_train)\n",
    "\n",
    "r2rmse_scores(xgb_untuned, X_train, y_train)"
   ]
  },
  {
   "cell_type": "code",
   "execution_count": 13,
   "metadata": {},
   "outputs": [
    {
     "name": "stdout",
     "output_type": "stream",
     "text": [
      "12666.367773469008\n",
      "20022.1534682249\n"
     ]
    }
   ],
   "source": [
    "yhat_train = xgb_untuned.predict(X_train)\n",
    "yhat_test = xgb_untuned.predict(X_test)\n",
    "\n",
    "train_mse_non_log = mean_squared_error(y_train, yhat_train, squared=False)\n",
    "test_mse_non_log = mean_squared_error(y_test, yhat_test, squared=False)\n",
    "\n",
    "print(train_mse_non_log)\n",
    "print(test_mse_non_log)"
   ]
  },
  {
   "cell_type": "markdown",
   "metadata": {},
   "source": [
    "#### Tuned Model"
   ]
  },
  {
   "cell_type": "code",
   "execution_count": 14,
   "metadata": {},
   "outputs": [
    {
     "name": "stdout",
     "output_type": "stream",
     "text": [
      "[{'alpha': [0.15, 0.2, 0.25],\n",
      "  'learning_rate': [0.08, 0.09, 0.1, 0.12, 0.13],\n",
      "  'max_depth': [3, 4, 5],\n",
      "  'max_features': ['sqrt', 'log2'],\n",
      "  'min_samples_split': [8, 9, 10, 11, 12],\n",
      "  'n_estimators': [160, 162, 164, 166, 168, 171, 173, 175, 177, 180],\n",
      "  'subsample': [0.6, 0.8, 0.9]},\n",
      " {'alpha': [0.15, 0.2, 0.25],\n",
      "  'learning_rate': [0.08, 0.09, 0.1, 0.12, 0.13],\n",
      "  'max_depth': [3, 4, 5],\n",
      "  'max_features': ['sqrt', 'log2'],\n",
      "  'min_samples_leaf': [3, 4, 5],\n",
      "  'n_estimators': [160, 162, 164, 166, 168, 171, 173, 175, 177, 180],\n",
      "  'subsample': [0.6, 0.8, 0.9]}]\n"
     ]
    }
   ],
   "source": [
    "n_estimators = [int(x) for x in np.linspace(start = 160, stop = 180, num = 10)]\n",
    "max_features = ['sqrt', 'log2']\n",
    "max_depth = [int(x) for x in np.linspace(3, 5, num = 3)]\n",
    "min_samples_split = [8, 9, 10, 11, 12]\n",
    "min_samples_leaf = [3,4,5]\n",
    "learning_rate = [0.08, 0.09, 0.1, 0.12, 0.13]\n",
    "alpha = [0.15, 0.2, 0.25]\n",
    "subsample = [0.6, 0.8, 0.9]\n",
    "\n",
    "random_grid = [{'n_estimators': n_estimators,\n",
    "               'max_features': max_features,\n",
    "               'learning_rate':learning_rate,\n",
    "               'alpha':alpha,\n",
    "               'max_depth':max_depth,\n",
    "               'subsample':subsample,\n",
    "               'min_samples_split': min_samples_split},\n",
    "               {\n",
    "               'n_estimators': n_estimators,\n",
    "               'max_features': max_features, \n",
    "               'learning_rate':learning_rate,\n",
    "               'alpha':alpha,\n",
    "               'max_depth':max_depth,\n",
    "               'subsample':subsample,\n",
    "               'min_samples_leaf': min_samples_leaf}]\n",
    "\n",
    "pprint(random_grid)"
   ]
  },
  {
   "cell_type": "code",
   "execution_count": 15,
   "metadata": {},
   "outputs": [
    {
     "name": "stdout",
     "output_type": "stream",
     "text": [
      "Fitting 3 folds for each of 400 candidates, totalling 1200 fits\n",
      "Fitting 3 folds for each of 400 candidates, totalling 1200 fits\n",
      "Fitting 3 folds for each of 400 candidates, totalling 1200 fits\n",
      "Fitting 3 folds for each of 400 candidates, totalling 1200 fits\n",
      "Fitting 3 folds for each of 400 candidates, totalling 1200 fits\n",
      "Fitting 3 folds for each of 400 candidates, totalling 1200 fits\n",
      "Fitting 3 folds for each of 400 candidates, totalling 1200 fits\n",
      "Fitting 3 folds for each of 400 candidates, totalling 1200 fits\n",
      "Fitting 3 folds for each of 400 candidates, totalling 1200 fits\n",
      "Fitting 3 folds for each of 400 candidates, totalling 1200 fits\n",
      "Fitting 3 folds for each of 400 candidates, totalling 1200 fits\n",
      "--------------------------------------------------\n",
      "5-fold Cross Validation Scoring\n",
      "Mean R^2 score: 0.9337562309965988\n",
      "Mean RMSE score: 17992.595343969217\n",
      "--------------------------------------------------\n"
     ]
    }
   ],
   "source": [
    "xgb = GradientBoostingRegressor(random_state=42)\n",
    "\n",
    "xgb_random = RandomizedSearchCV(estimator=xgb, \n",
    "                               param_distributions=random_grid, \n",
    "                               n_iter=400, \n",
    "                               cv=3, \n",
    "                               verbose=1, \n",
    "                               random_state=42, \n",
    "                               n_jobs = -1)\n",
    "\n",
    "xgb_random.fit(X_train, y_train)\n",
    "\n",
    "r2rmse_scores(xgb_random, X_train, y_train)"
   ]
  },
  {
   "cell_type": "code",
   "execution_count": 16,
   "metadata": {},
   "outputs": [
    {
     "name": "stdout",
     "output_type": "stream",
     "text": [
      "12379.414691259073\n",
      "18063.257706544446\n"
     ]
    }
   ],
   "source": [
    "yhat_train = xgb_random.predict(X_train)\n",
    "yhat_test = xgb_random.predict(X_test)\n",
    "\n",
    "train_mse_non_log = mean_squared_error(y_train, yhat_train, squared=False)\n",
    "test_mse_non_log = mean_squared_error(y_test, yhat_test, squared=False)\n",
    "\n",
    "print(train_mse_non_log)\n",
    "print(test_mse_non_log)"
   ]
  },
  {
   "cell_type": "markdown",
   "metadata": {},
   "source": [
    "#### Save best model"
   ]
  },
  {
   "cell_type": "code",
   "execution_count": 33,
   "metadata": {},
   "outputs": [],
   "source": [
    "#file_name = \"xgb_reg_{}.pkl\".format(time.strftime(\"%Y%m%d-%H.%M.%S\"))\n",
    "\n",
    "# save\n",
    "#pickle.dump(xgb_random, open(file_name, \"wb\"))\n",
    "\n",
    "# load\n",
    "file_name='xgb_reg_20230719-13.12.55.pkl'\n",
    "xgb_model_loaded = pickle.load(open(file_name, \"rb\"))"
   ]
  },
  {
   "cell_type": "code",
   "execution_count": 38,
   "metadata": {},
   "outputs": [
    {
     "name": "stdout",
     "output_type": "stream",
     "text": [
      "9857.474442438353\n",
      "16906.98734415023\n"
     ]
    }
   ],
   "source": [
    "yhat_train = xgb_model_loaded.predict(X_train)\n",
    "yhat_test = xgb_model_loaded.predict(X_test)\n",
    "\n",
    "train_mse_non_log = mean_squared_error(y_train, yhat_train, squared=False)\n",
    "test_mse_non_log = mean_squared_error(y_test, yhat_test, squared=False)\n",
    "\n",
    "print(train_mse_non_log)\n",
    "print(test_mse_non_log)"
   ]
  },
  {
   "cell_type": "markdown",
   "metadata": {},
   "source": [
    "## LightGBM"
   ]
  },
  {
   "cell_type": "markdown",
   "metadata": {},
   "source": [
    "#### Untuned model"
   ]
  },
  {
   "cell_type": "code",
   "execution_count": 19,
   "metadata": {},
   "outputs": [
    {
     "data": {
      "text/html": [
       "<style>#sk-container-id-1 {color: black;background-color: white;}#sk-container-id-1 pre{padding: 0;}#sk-container-id-1 div.sk-toggleable {background-color: white;}#sk-container-id-1 label.sk-toggleable__label {cursor: pointer;display: block;width: 100%;margin-bottom: 0;padding: 0.3em;box-sizing: border-box;text-align: center;}#sk-container-id-1 label.sk-toggleable__label-arrow:before {content: \"▸\";float: left;margin-right: 0.25em;color: #696969;}#sk-container-id-1 label.sk-toggleable__label-arrow:hover:before {color: black;}#sk-container-id-1 div.sk-estimator:hover label.sk-toggleable__label-arrow:before {color: black;}#sk-container-id-1 div.sk-toggleable__content {max-height: 0;max-width: 0;overflow: hidden;text-align: left;background-color: #f0f8ff;}#sk-container-id-1 div.sk-toggleable__content pre {margin: 0.2em;color: black;border-radius: 0.25em;background-color: #f0f8ff;}#sk-container-id-1 input.sk-toggleable__control:checked~div.sk-toggleable__content {max-height: 200px;max-width: 100%;overflow: auto;}#sk-container-id-1 input.sk-toggleable__control:checked~label.sk-toggleable__label-arrow:before {content: \"▾\";}#sk-container-id-1 div.sk-estimator input.sk-toggleable__control:checked~label.sk-toggleable__label {background-color: #d4ebff;}#sk-container-id-1 div.sk-label input.sk-toggleable__control:checked~label.sk-toggleable__label {background-color: #d4ebff;}#sk-container-id-1 input.sk-hidden--visually {border: 0;clip: rect(1px 1px 1px 1px);clip: rect(1px, 1px, 1px, 1px);height: 1px;margin: -1px;overflow: hidden;padding: 0;position: absolute;width: 1px;}#sk-container-id-1 div.sk-estimator {font-family: monospace;background-color: #f0f8ff;border: 1px dotted black;border-radius: 0.25em;box-sizing: border-box;margin-bottom: 0.5em;}#sk-container-id-1 div.sk-estimator:hover {background-color: #d4ebff;}#sk-container-id-1 div.sk-parallel-item::after {content: \"\";width: 100%;border-bottom: 1px solid gray;flex-grow: 1;}#sk-container-id-1 div.sk-label:hover label.sk-toggleable__label {background-color: #d4ebff;}#sk-container-id-1 div.sk-serial::before {content: \"\";position: absolute;border-left: 1px solid gray;box-sizing: border-box;top: 0;bottom: 0;left: 50%;z-index: 0;}#sk-container-id-1 div.sk-serial {display: flex;flex-direction: column;align-items: center;background-color: white;padding-right: 0.2em;padding-left: 0.2em;position: relative;}#sk-container-id-1 div.sk-item {position: relative;z-index: 1;}#sk-container-id-1 div.sk-parallel {display: flex;align-items: stretch;justify-content: center;background-color: white;position: relative;}#sk-container-id-1 div.sk-item::before, #sk-container-id-1 div.sk-parallel-item::before {content: \"\";position: absolute;border-left: 1px solid gray;box-sizing: border-box;top: 0;bottom: 0;left: 50%;z-index: -1;}#sk-container-id-1 div.sk-parallel-item {display: flex;flex-direction: column;z-index: 1;position: relative;background-color: white;}#sk-container-id-1 div.sk-parallel-item:first-child::after {align-self: flex-end;width: 50%;}#sk-container-id-1 div.sk-parallel-item:last-child::after {align-self: flex-start;width: 50%;}#sk-container-id-1 div.sk-parallel-item:only-child::after {width: 0;}#sk-container-id-1 div.sk-dashed-wrapped {border: 1px dashed gray;margin: 0 0.4em 0.5em 0.4em;box-sizing: border-box;padding-bottom: 0.4em;background-color: white;}#sk-container-id-1 div.sk-label label {font-family: monospace;font-weight: bold;display: inline-block;line-height: 1.2em;}#sk-container-id-1 div.sk-label-container {text-align: center;}#sk-container-id-1 div.sk-container {/* jupyter's `normalize.less` sets `[hidden] { display: none; }` but bootstrap.min.css set `[hidden] { display: none !important; }` so we also need the `!important` here to be able to override the default hidden behavior on the sphinx rendered scikit-learn.org. See: https://github.com/scikit-learn/scikit-learn/issues/21755 */display: inline-block !important;position: relative;}#sk-container-id-1 div.sk-text-repr-fallback {display: none;}</style><div id=\"sk-container-id-1\" class=\"sk-top-container\"><div class=\"sk-text-repr-fallback\"><pre>LGBMRegressor()</pre><b>In a Jupyter environment, please rerun this cell to show the HTML representation or trust the notebook. <br />On GitHub, the HTML representation is unable to render, please try loading this page with nbviewer.org.</b></div><div class=\"sk-container\" hidden><div class=\"sk-item\"><div class=\"sk-estimator sk-toggleable\"><input class=\"sk-toggleable__control sk-hidden--visually\" id=\"sk-estimator-id-1\" type=\"checkbox\" checked><label for=\"sk-estimator-id-1\" class=\"sk-toggleable__label sk-toggleable__label-arrow\">LGBMRegressor</label><div class=\"sk-toggleable__content\"><pre>LGBMRegressor()</pre></div></div></div></div></div>"
      ],
      "text/plain": [
       "LGBMRegressor()"
      ]
     },
     "execution_count": 19,
     "metadata": {},
     "output_type": "execute_result"
    }
   ],
   "source": [
    "lgbm = lgb.LGBMRegressor()\n",
    "lgbm.fit(X_train, y_train)"
   ]
  },
  {
   "cell_type": "code",
   "execution_count": 20,
   "metadata": {},
   "outputs": [
    {
     "name": "stdout",
     "output_type": "stream",
     "text": [
      "9024.91978810812\n",
      "21787.229150430783\n"
     ]
    }
   ],
   "source": [
    "yhat_train = lgbm.predict(X_train)\n",
    "yhat_test = lgbm.predict(X_test)\n",
    "\n",
    "train_mse_non_log = mean_squared_error(y_train, yhat_train, squared=False)\n",
    "test_mse_non_log = mean_squared_error(y_test, yhat_test, squared=False)\n",
    "\n",
    "print(train_mse_non_log)\n",
    "print(test_mse_non_log)"
   ]
  },
  {
   "cell_type": "markdown",
   "metadata": {},
   "source": [
    "#### Tuned Model"
   ]
  },
  {
   "cell_type": "code",
   "execution_count": 21,
   "metadata": {},
   "outputs": [
    {
     "data": {
      "text/plain": [
       "[{'n_estimators': [10, 30, 50, 70, 90, 110, 130, 150, 170, 190],\n",
       "  'learning_rate': [0.08, 0.1, 0.2, 0.3],\n",
       "  'alpha': [0.1, 0.2, 0.3, 0.4],\n",
       "  'max_depth': [2, 3, 5],\n",
       "  'subsample': [0.6, 0.8, 0.9],\n",
       "  'min_child_samples': [3, 4, 5, 6, 7],\n",
       "  'colsample_bytree': [0.7, 0.8, 0.9]}]"
      ]
     },
     "execution_count": 21,
     "metadata": {},
     "output_type": "execute_result"
    }
   ],
   "source": [
    "n_estimators = [int(x) for x in np.linspace(start = 10, stop = 190, num = 10)]\n",
    "max_depth = [int(x) for x in np.linspace(2, 5, num = 3)]\n",
    "learning_rate = [0.08, 0.1, 0.2, 0.3]\n",
    "alpha = [0.1, 0.2, 0.3, 0.4]\n",
    "subsample = [0.6, 0.8, 0.9]\n",
    "min_child_samples = [3,4, 5, 6,7]\n",
    "colsample_bytree = [0.7, 0.8, 0.9]\n",
    "\n",
    "random_grid = [{'n_estimators': n_estimators,\n",
    "               'learning_rate':learning_rate,\n",
    "               'alpha':alpha,\n",
    "               'max_depth':max_depth,\n",
    "               'subsample':subsample,\n",
    "               'min_child_samples':min_child_samples,\n",
    "               'colsample_bytree':colsample_bytree}]\n",
    "\n",
    "random_grid"
   ]
  },
  {
   "cell_type": "code",
   "execution_count": 22,
   "metadata": {},
   "outputs": [
    {
     "name": "stdout",
     "output_type": "stream",
     "text": [
      "Fitting 3 folds for each of 100 candidates, totalling 300 fits\n",
      "Fitting 3 folds for each of 100 candidates, totalling 300 fits\n",
      "Fitting 3 folds for each of 100 candidates, totalling 300 fits\n",
      "Fitting 3 folds for each of 100 candidates, totalling 300 fits\n",
      "Fitting 3 folds for each of 100 candidates, totalling 300 fits\n",
      "Fitting 3 folds for each of 100 candidates, totalling 300 fits\n",
      "Fitting 3 folds for each of 100 candidates, totalling 300 fits\n",
      "Fitting 3 folds for each of 100 candidates, totalling 300 fits\n",
      "Fitting 3 folds for each of 100 candidates, totalling 300 fits\n",
      "Fitting 3 folds for each of 100 candidates, totalling 300 fits\n",
      "Fitting 3 folds for each of 100 candidates, totalling 300 fits\n",
      "--------------------------------------------------\n",
      "5-fold Cross Validation Scoring\n",
      "Mean R^2 score: 0.934047280268391\n",
      "Mean RMSE score: 17959.81347978003\n",
      "--------------------------------------------------\n"
     ]
    }
   ],
   "source": [
    "lgbm = lgb.LGBMRegressor(objective='regression', \n",
    "                                random_state=42)\n",
    "\n",
    "lgbm_random = RandomizedSearchCV(estimator=lgbm, \n",
    "                      param_distributions=random_grid,\n",
    "                      n_iter=100, \n",
    "                      cv=3, \n",
    "                      verbose=1, \n",
    "                      random_state=42, \n",
    "                      n_jobs = -1,\n",
    "                      scoring='neg_root_mean_squared_error')\n",
    "\n",
    "lgbm_random.fit(X_train, y_train)\n",
    "\n",
    "r2rmse_scores(lgbm_random, X_train, y_train)"
   ]
  },
  {
   "cell_type": "code",
   "execution_count": 23,
   "metadata": {},
   "outputs": [
    {
     "name": "stdout",
     "output_type": "stream",
     "text": [
      "11960.92188118916\n",
      "18519.067420985775\n"
     ]
    }
   ],
   "source": [
    "yhat_train = lgbm_random.predict(X_train)\n",
    "yhat_test = lgbm_random.predict(X_test)\n",
    "\n",
    "train_mse_non_log = mean_squared_error(y_train, yhat_train, squared=False)\n",
    "test_mse_non_log = mean_squared_error(y_test, yhat_test, squared=False)\n",
    "\n",
    "print(train_mse_non_log)\n",
    "print(test_mse_non_log)"
   ]
  },
  {
   "cell_type": "code",
   "execution_count": 24,
   "metadata": {},
   "outputs": [
    {
     "data": {
      "text/plain": [
       "{'subsample': 0.9,\n",
       " 'n_estimators': 130,\n",
       " 'min_child_samples': 4,\n",
       " 'max_depth': 3,\n",
       " 'learning_rate': 0.1,\n",
       " 'colsample_bytree': 0.7,\n",
       " 'alpha': 0.4}"
      ]
     },
     "execution_count": 24,
     "metadata": {},
     "output_type": "execute_result"
    }
   ],
   "source": [
    "lgbm_random.best_params_"
   ]
  },
  {
   "cell_type": "markdown",
   "metadata": {},
   "source": [
    "#### Save best model"
   ]
  },
  {
   "cell_type": "code",
   "execution_count": 30,
   "metadata": {},
   "outputs": [],
   "source": [
    "#file_name = \"lgbm_reg_{}.pkl\".format(time.strftime(\"%Y%m%d-%H.%M.%S\"))\n",
    "\n",
    "# save\n",
    "#pickle.dump(lgbm_random, open(file_name, \"wb\"))\n",
    "\n",
    "# load\n",
    "file_name='lgbm_reg_20230719-15.03.27.pkl'\n",
    "lgbm_model_loaded = pickle.load(open(file_name, \"rb\"))"
   ]
  },
  {
   "cell_type": "code",
   "execution_count": 31,
   "metadata": {},
   "outputs": [
    {
     "name": "stdout",
     "output_type": "stream",
     "text": [
      "11960.92188118916\n",
      "18519.067420985775\n"
     ]
    }
   ],
   "source": [
    "yhat_train = lgbm_model_loaded.predict(X_train)\n",
    "yhat_test = lgbm_model_loaded.predict(X_test)\n",
    "\n",
    "train_mse_non_log = mean_squared_error(y_train, yhat_train, squared=False)\n",
    "test_mse_non_log = mean_squared_error(y_test, yhat_test, squared=False)\n",
    "\n",
    "print(train_mse_non_log)\n",
    "print(test_mse_non_log)"
   ]
  },
  {
   "cell_type": "code",
   "execution_count": null,
   "metadata": {},
   "outputs": [],
   "source": []
  }
 ],
 "metadata": {
  "kernelspec": {
   "display_name": "Python 3",
   "language": "python",
   "name": "python3"
  },
  "language_info": {
   "codemirror_mode": {
    "name": "ipython",
    "version": 3
   },
   "file_extension": ".py",
   "mimetype": "text/x-python",
   "name": "python",
   "nbconvert_exporter": "python",
   "pygments_lexer": "ipython3",
   "version": "3.11.4"
  },
  "orig_nbformat": 4
 },
 "nbformat": 4,
 "nbformat_minor": 2
}

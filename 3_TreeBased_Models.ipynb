{
 "cells": [
  {
   "cell_type": "code",
   "execution_count": 48,
   "metadata": {},
   "outputs": [],
   "source": [
    "import pandas as pd\n",
    "import numpy as np\n",
    "#import matplotlib.pyplot as plt \n",
    "#import seaborn as sns\n",
    "#import plotly.express as px\n",
    "from pprint import pprint\n",
    "\n",
    "from sklearn.ensemble import RandomForestRegressor, GradientBoostingRegressor\n",
    "from sklearn.model_selection import RandomizedSearchCV, train_test_split\n",
    "from sklearn.metrics import mean_squared_error, r2_score\n",
    "\n",
    "from functions import df_engineered, r2rmse_scores\n",
    "\n",
    "import pickle\n",
    "import time"
   ]
  },
  {
   "cell_type": "code",
   "execution_count": 2,
   "metadata": {},
   "outputs": [],
   "source": [
    "feature_selection = ['ExterQual', 'BsmtQual', 'KitchenQual', 'OverallQual', \n",
    "                    'GrLivArea', 'TotalBsmtSF', 'GarageArea', 'FullBath', \n",
    "                    'HouseAge', 'TotRmsAbvGrd', 'OverallCond',  'FlrSF1st', 'FlrSF2nd',\n",
    "                    'Fireplaces', 'HasFireplace','LotFrontage', 'LotArea', 'MSSubClass', 'GoodGarageType', \n",
    "                    'BsmtUnfSF', 'Zone', 'Location', 'CulDSac', 'ExQual', 'RemodAge', 'LargerHouse', \n",
    "                    'Remod', 'ExBsmtQual', 'TwoStory', 'TotalSF', 'RoadRail', 'ExKitchen', 'CentralAir',\n",
    "                    'TotalBath', 'Exterior1st_top']\n",
    "                        "
   ]
  },
  {
   "cell_type": "code",
   "execution_count": 3,
   "metadata": {},
   "outputs": [
    {
     "name": "stdout",
     "output_type": "stream",
     "text": [
      "df shape: (2580, 80)\n"
     ]
    }
   ],
   "source": [
    "df = pd.read_csv('data/Ames_Housing_Price_Data.csv', index_col=0).iloc[:,1:]\n",
    "print('df shape:', df.shape)\n",
    "\n",
    "data = df_engineered(df, Reg=False)"
   ]
  },
  {
   "cell_type": "code",
   "execution_count": 4,
   "metadata": {},
   "outputs": [],
   "source": [
    "X_train, X_test, y_train, y_test = train_test_split(data[feature_selection], data['SalePrice'], test_size=0.30, random_state=42)"
   ]
  },
  {
   "cell_type": "markdown",
   "metadata": {},
   "source": [
    "## Random Forest"
   ]
  },
  {
   "cell_type": "code",
   "execution_count": 5,
   "metadata": {},
   "outputs": [
    {
     "name": "stdout",
     "output_type": "stream",
     "text": [
      "[{'bootstrap': [True, False],\n",
      "  'max_features': ['sqrt', 'log2'],\n",
      "  'min_samples_split': [2, 5, 10, 15],\n",
      "  'n_estimators': [10, 20, 30, 40, 50, 60, 70, 80, 90, 100]},\n",
      " {'bootstrap': [True, False],\n",
      "  'max_features': ['sqrt', 'log2'],\n",
      "  'min_samples_leaf': [4, 8, 12, 15],\n",
      "  'n_estimators': [10, 20, 30, 40, 50, 60, 70, 80, 90, 100]}]\n"
     ]
    }
   ],
   "source": [
    "n_estimators = [int(x) for x in np.linspace(start = 10, stop = 100, num = 10)]\n",
    "\n",
    "max_features = ['sqrt', 'log2']\n",
    "\n",
    "max_depth = [int(x) for x in np.linspace(30, 210, num = 11)]\n",
    "\n",
    "max_depth.append(None)\n",
    "\n",
    "min_samples_split = [2, 5, 10, 15]\n",
    "\n",
    "min_samples_leaf = [4, 8, 12, 15]\n",
    "\n",
    "bootstrap = [True, False]\n",
    "\n",
    "\n",
    "random_grid = [{'n_estimators': n_estimators,\n",
    "               'max_features': max_features,\n",
    "               'bootstrap': bootstrap,\n",
    "               'max_features':max_features,\n",
    "               'min_samples_split': min_samples_split},\n",
    "               {\n",
    "               'n_estimators': n_estimators,\n",
    "               'max_features': max_features,\n",
    "               'bootstrap': bootstrap,   \n",
    "               'max_features':max_features,\n",
    "               'min_samples_leaf': min_samples_leaf}]\n",
    "\n",
    "pprint(random_grid)"
   ]
  },
  {
   "cell_type": "code",
   "execution_count": 6,
   "metadata": {},
   "outputs": [
    {
     "name": "stdout",
     "output_type": "stream",
     "text": [
      "Fitting 3 folds for each of 100 candidates, totalling 300 fits\n"
     ]
    },
    {
     "name": "stdout",
     "output_type": "stream",
     "text": [
      "Fitting 3 folds for each of 100 candidates, totalling 300 fits\n",
      "Fitting 3 folds for each of 100 candidates, totalling 300 fits\n",
      "Fitting 3 folds for each of 100 candidates, totalling 300 fits\n",
      "Fitting 3 folds for each of 100 candidates, totalling 300 fits\n",
      "Fitting 3 folds for each of 100 candidates, totalling 300 fits\n",
      "Fitting 3 folds for each of 100 candidates, totalling 300 fits\n",
      "Fitting 3 folds for each of 100 candidates, totalling 300 fits\n",
      "Fitting 3 folds for each of 100 candidates, totalling 300 fits\n",
      "Fitting 3 folds for each of 100 candidates, totalling 300 fits\n",
      "Fitting 3 folds for each of 100 candidates, totalling 300 fits\n",
      "--------------------------------------------------\n",
      "5-fold Cross Validation Scoring\n",
      "Mean R^2 score: 0.9184476007207808\n",
      "Mean RMSE score: 20066.266228465167\n",
      "--------------------------------------------------\n"
     ]
    }
   ],
   "source": [
    "rf = RandomForestRegressor()\n",
    "\n",
    "rf_random = RandomizedSearchCV(estimator=rf, \n",
    "                               param_distributions=random_grid, \n",
    "                               n_iter=100, \n",
    "                               cv=3, \n",
    "                               verbose=1, \n",
    "                               random_state=42, \n",
    "                               n_jobs = -1)\n",
    "\n",
    "rf_random.fit(X_train, y_train)\n",
    "\n",
    "r2rmse_scores(rf_random, X_train, y_train)"
   ]
  },
  {
   "cell_type": "code",
   "execution_count": 16,
   "metadata": {},
   "outputs": [
    {
     "name": "stdout",
     "output_type": "stream",
     "text": [
      "{'bootstrap': False,\n",
      " 'max_features': 'log2',\n",
      " 'min_samples_split': 5,\n",
      " 'n_estimators': 100}\n"
     ]
    }
   ],
   "source": [
    "pprint(rf_random.best_params_)"
   ]
  },
  {
   "cell_type": "code",
   "execution_count": 42,
   "metadata": {},
   "outputs": [
    {
     "name": "stdout",
     "output_type": "stream",
     "text": [
      "4444.534050784377\n",
      "19929.86671786943\n"
     ]
    }
   ],
   "source": [
    "yhat_train = rf_random.predict(X_train)\n",
    "yhat_test = rf_random.predict(X_test)\n",
    "\n",
    "train_mse_non_log = mean_squared_error(y_train, yhat_train, squared=False)\n",
    "test_mse_non_log = mean_squared_error(y_test, yhat_test, squared=False)\n",
    "\n",
    "print(train_mse_non_log)\n",
    "print(test_mse_non_log)"
   ]
  },
  {
   "cell_type": "code",
   "execution_count": 78,
   "metadata": {},
   "outputs": [],
   "source": [
    "#file_name = \"rf_reg_{}.pkl\".format(time.strftime(\"%Y%m%d-%H.%M.%S\"))\n",
    "\n",
    "# save\n",
    "#pickle.dump(rf_random, open(file_name, \"wb\"))\n",
    "\n",
    "# load\n",
    "rf_model_loaded = pickle.load(open(file_name, \"rb\"))"
   ]
  },
  {
   "cell_type": "code",
   "execution_count": 79,
   "metadata": {},
   "outputs": [
    {
     "name": "stdout",
     "output_type": "stream",
     "text": [
      "4444.534050784377\n",
      "19929.86671786943\n"
     ]
    }
   ],
   "source": [
    "yhat_train = rf_model_loaded.predict(X_train)\n",
    "yhat_test = rf_model_loaded.predict(X_test)\n",
    "\n",
    "train_mse_non_log = mean_squared_error(y_train, yhat_train, squared=False)\n",
    "test_mse_non_log = mean_squared_error(y_test, yhat_test, squared=False)\n",
    "\n",
    "print(train_mse_non_log)\n",
    "print(test_mse_non_log)"
   ]
  },
  {
   "cell_type": "markdown",
   "metadata": {},
   "source": [
    "## XGBoost"
   ]
  },
  {
   "cell_type": "code",
   "execution_count": 60,
   "metadata": {},
   "outputs": [
    {
     "name": "stdout",
     "output_type": "stream",
     "text": [
      "[{'alpha': [0.1, 0.3, 0.5, 0.9],\n",
      "  'learning_rate': [0.1, 0.01, 0.5],\n",
      "  'max_features': ['sqrt', 'log2'],\n",
      "  'min_samples_split': [2, 5, 10, 15],\n",
      "  'n_estimators': [10, 20, 30, 40, 50, 60, 70, 80, 90, 100]},\n",
      " {'alpha': [0.1, 0.3, 0.5, 0.9],\n",
      "  'learning_rate': [0.1, 0.01, 0.5],\n",
      "  'max_features': ['sqrt', 'log2'],\n",
      "  'min_samples_leaf': [4, 8, 12, 15],\n",
      "  'n_estimators': [10, 20, 30, 40, 50, 60, 70, 80, 90, 100]}]\n"
     ]
    }
   ],
   "source": [
    "n_estimators = [int(x) for x in np.linspace(start = 10, stop = 100, num = 10)]\n",
    "\n",
    "max_features = ['sqrt', 'log2']\n",
    "\n",
    "max_depth = [int(x) for x in np.linspace(30, 210, num = 11)]\n",
    "\n",
    "max_depth.append(None)\n",
    "\n",
    "min_samples_split = [2, 5, 10, 15]\n",
    "\n",
    "min_samples_leaf = [4, 8, 12, 15]\n",
    "\n",
    "learning_rate = [0.1, 0.01, 0.5]\n",
    "\n",
    "alpha = [0.1, 0.3, 0.5, 0.9]\n",
    "\n",
    "\n",
    "random_grid = [{'n_estimators': n_estimators,\n",
    "               'max_features': max_features,\n",
    "               'max_features':max_features,\n",
    "               'learning_rate':learning_rate,\n",
    "               'alpha':alpha,\n",
    "               'min_samples_split': min_samples_split},\n",
    "               {\n",
    "               'n_estimators': n_estimators,\n",
    "               'max_features': max_features, \n",
    "               'max_features':max_features,\n",
    "               'learning_rate':learning_rate,\n",
    "               'alpha':alpha,\n",
    "               'min_samples_leaf': min_samples_leaf}]\n",
    "\n",
    "pprint(random_grid)"
   ]
  },
  {
   "cell_type": "code",
   "execution_count": 61,
   "metadata": {},
   "outputs": [
    {
     "name": "stdout",
     "output_type": "stream",
     "text": [
      "Fitting 3 folds for each of 100 candidates, totalling 300 fits\n",
      "Fitting 3 folds for each of 100 candidates, totalling 300 fits\n",
      "Fitting 3 folds for each of 100 candidates, totalling 300 fits\n",
      "Fitting 3 folds for each of 100 candidates, totalling 300 fits\n",
      "Fitting 3 folds for each of 100 candidates, totalling 300 fits\n",
      "Fitting 3 folds for each of 100 candidates, totalling 300 fits\n",
      "Fitting 3 folds for each of 100 candidates, totalling 300 fits\n",
      "Fitting 3 folds for each of 100 candidates, totalling 300 fits\n",
      "Fitting 3 folds for each of 100 candidates, totalling 300 fits\n",
      "Fitting 3 folds for each of 100 candidates, totalling 300 fits\n",
      "Fitting 3 folds for each of 100 candidates, totalling 300 fits\n",
      "--------------------------------------------------\n",
      "5-fold Cross Validation Scoring\n",
      "Mean R^2 score: 0.9258030987715001\n",
      "Mean RMSE score: 18528.54698705896\n",
      "--------------------------------------------------\n"
     ]
    }
   ],
   "source": [
    "xgb = GradientBoostingRegressor()\n",
    "\n",
    "xgb_random = RandomizedSearchCV(estimator=xgb, \n",
    "                               param_distributions=random_grid, \n",
    "                               n_iter=100, \n",
    "                               cv=3, \n",
    "                               verbose=1, \n",
    "                               random_state=42, \n",
    "                               n_jobs = -1)\n",
    "\n",
    "xgb_random.fit(X_train, y_train)\n",
    "\n",
    "r2rmse_scores(xgb_random, X_train, y_train)"
   ]
  },
  {
   "cell_type": "code",
   "execution_count": 62,
   "metadata": {},
   "outputs": [
    {
     "name": "stdout",
     "output_type": "stream",
     "text": [
      "{'alpha': 0.1,\n",
      " 'learning_rate': 0.1,\n",
      " 'max_features': 'sqrt',\n",
      " 'min_samples_split': 10,\n",
      " 'n_estimators': 100}\n"
     ]
    }
   ],
   "source": [
    "pprint(xgb_random.best_params_)"
   ]
  },
  {
   "cell_type": "code",
   "execution_count": 68,
   "metadata": {},
   "outputs": [
    {
     "name": "stdout",
     "output_type": "stream",
     "text": [
      "13598.591504674852\n",
      "17822.03155802156\n"
     ]
    }
   ],
   "source": [
    "yhat_train = xgb_random.predict(X_train)\n",
    "yhat_test = xgb_random.predict(X_test)\n",
    "\n",
    "train_mse_non_log = mean_squared_error(y_train, yhat_train, squared=False)\n",
    "test_mse_non_log = mean_squared_error(y_test, yhat_test, squared=False)\n",
    "\n",
    "print(train_mse_non_log)\n",
    "print(test_mse_non_log)"
   ]
  },
  {
   "cell_type": "code",
   "execution_count": 71,
   "metadata": {},
   "outputs": [],
   "source": [
    "#file_name = \"xgb_reg_{}.pkl\".format(time.strftime(\"%Y%m%d-%H.%M.%S\"))\n",
    "\n",
    "# save\n",
    "#pickle.dump(xgb_random, open(file_name, \"wb\"))\n",
    "\n",
    "# load\n",
    "xgb_model_loaded = pickle.load(open(file_name, \"rb\"))"
   ]
  },
  {
   "cell_type": "code",
   "execution_count": 77,
   "metadata": {},
   "outputs": [
    {
     "name": "stdout",
     "output_type": "stream",
     "text": [
      "13598.591504674852\n",
      "17822.03155802156\n"
     ]
    }
   ],
   "source": [
    "yhat_train = xgb_model_loaded.predict(X_train)\n",
    "yhat_test = xgb_model_loaded.predict(X_test)\n",
    "\n",
    "train_mse_non_log = mean_squared_error(y_train, yhat_train, squared=False)\n",
    "test_mse_non_log = mean_squared_error(y_test, yhat_test, squared=False)\n",
    "\n",
    "print(train_mse_non_log)\n",
    "print(test_mse_non_log)"
   ]
  },
  {
   "cell_type": "code",
   "execution_count": null,
   "metadata": {},
   "outputs": [],
   "source": []
  }
 ],
 "metadata": {
  "kernelspec": {
   "display_name": "Python 3",
   "language": "python",
   "name": "python3"
  },
  "language_info": {
   "codemirror_mode": {
    "name": "ipython",
    "version": 3
   },
   "file_extension": ".py",
   "mimetype": "text/x-python",
   "name": "python",
   "nbconvert_exporter": "python",
   "pygments_lexer": "ipython3",
   "version": "3.11.4"
  },
  "orig_nbformat": 4
 },
 "nbformat": 4,
 "nbformat_minor": 2
}

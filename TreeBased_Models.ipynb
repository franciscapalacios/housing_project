{
 "cells": [
  {
   "cell_type": "code",
   "execution_count": 1,
   "metadata": {},
   "outputs": [],
   "source": [
    "import pandas as pd\n",
    "import numpy as np\n",
    "#import matplotlib.pyplot as plt \n",
    "#import seaborn as sns\n",
    "#import plotly.express as px\n",
    "from pprint import pprint\n",
    "\n",
    "from sklearn.ensemble import RandomForestRegressor\n",
    "from sklearn.model_selection import RandomizedSearchCV, train_test_split\n",
    "from sklearn.metrics import mean_squared_error, r2_score\n",
    "\n",
    "from functions import df_engineered, r2rmse_scores"
   ]
  },
  {
   "cell_type": "code",
   "execution_count": 2,
   "metadata": {},
   "outputs": [],
   "source": [
    "feature_selection = ['ExterQual', 'BsmtQual', 'KitchenQual', 'OverallQual', \n",
    "                    'GrLivArea', 'TotalBsmtSF', 'GarageArea', 'FullBath', \n",
    "                    'HouseAge', 'TotRmsAbvGrd', 'OverallCond',  'FlrSF1st', 'FlrSF2nd',\n",
    "                    'Fireplaces', 'LotFrontage', 'LotArea', 'MSSubClass', 'GoodGarageType', \n",
    "                    'BsmtUnfSF', 'Zone', 'Location',\n",
    "                    'CulDSac', 'Exterior1st_top', 'ExQual', 'RemodAge', 'LargerHouse', 'Remod', \n",
    "                    'ExBsmtQual', 'TwoStory', 'TotalSF', 'RoadRail', 'ExKitchen', 'CentralAir',\n",
    "                    'TotalBath']\n",
    "                        "
   ]
  },
  {
   "cell_type": "code",
   "execution_count": 3,
   "metadata": {},
   "outputs": [
    {
     "name": "stdout",
     "output_type": "stream",
     "text": [
      "df shape: (2580, 80)\n"
     ]
    }
   ],
   "source": [
    "df = pd.read_csv('data/Ames_Housing_Price_Data.csv', index_col=0).iloc[:,1:]\n",
    "df.rename(columns = {'1stFlrSF':'FlrSF1st', '2ndFlrSF':'FlrSF2nd'}, inplace = True)\n",
    "print('df shape:', df.shape)\n",
    "\n",
    "data = df_engineered(df, Reg=False)"
   ]
  },
  {
   "cell_type": "code",
   "execution_count": 4,
   "metadata": {},
   "outputs": [],
   "source": [
    "X_train, X_test, y_train, y_test = train_test_split(data[feature_selection], data['SalePrice'], test_size=0.30, random_state=42)"
   ]
  },
  {
   "cell_type": "markdown",
   "metadata": {},
   "source": [
    "## Random Forest"
   ]
  },
  {
   "cell_type": "code",
   "execution_count": 5,
   "metadata": {},
   "outputs": [
    {
     "name": "stdout",
     "output_type": "stream",
     "text": [
      "[{'bootstrap': [True, False],\n",
      "  'max_features': ['sqrt', 'log2'],\n",
      "  'min_samples_split': [2, 5, 10, 15],\n",
      "  'n_estimators': [10, 20, 30, 40, 50, 60, 70, 80, 90, 100]},\n",
      " {'bootstrap': [True, False],\n",
      "  'max_features': ['sqrt', 'log2'],\n",
      "  'min_samples_leaf': [4, 8, 12, 15],\n",
      "  'n_estimators': [10, 20, 30, 40, 50, 60, 70, 80, 90, 100]}]\n"
     ]
    }
   ],
   "source": [
    "n_estimators = [int(x) for x in np.linspace(start = 10, stop = 100, num = 10)]\n",
    "\n",
    "max_features = ['sqrt', 'log2']\n",
    "\n",
    "max_depth = [int(x) for x in np.linspace(30, 210, num = 11)]\n",
    "\n",
    "max_depth.append(None)\n",
    "\n",
    "min_samples_split = [2, 5, 10, 15]\n",
    "\n",
    "min_samples_leaf = [4, 8, 12, 15]\n",
    "\n",
    "bootstrap = [True, False]\n",
    "\n",
    "\n",
    "random_grid = [{'n_estimators': n_estimators,\n",
    "               'max_features': max_features,\n",
    "               'bootstrap': bootstrap,\n",
    "               'max_features':max_features,\n",
    "               'min_samples_split': min_samples_split},\n",
    "               {\n",
    "               'n_estimators': n_estimators,\n",
    "               'max_features': max_features,\n",
    "               'bootstrap': bootstrap,   \n",
    "               'max_features':max_features,\n",
    "               'min_samples_leaf': min_samples_leaf}]\n",
    "\n",
    "pprint(random_grid)"
   ]
  },
  {
   "cell_type": "code",
   "execution_count": 6,
   "metadata": {},
   "outputs": [
    {
     "name": "stdout",
     "output_type": "stream",
     "text": [
      "Fitting 3 folds for each of 100 candidates, totalling 300 fits\n",
      "Fitting 3 folds for each of 100 candidates, totalling 300 fits\n",
      "Fitting 3 folds for each of 100 candidates, totalling 300 fits\n",
      "Fitting 3 folds for each of 100 candidates, totalling 300 fits\n",
      "Fitting 3 folds for each of 100 candidates, totalling 300 fits\n",
      "Fitting 3 folds for each of 100 candidates, totalling 300 fits\n",
      "Fitting 3 folds for each of 100 candidates, totalling 300 fits\n",
      "Fitting 3 folds for each of 100 candidates, totalling 300 fits\n",
      "Fitting 3 folds for each of 100 candidates, totalling 300 fits\n",
      "Fitting 3 folds for each of 100 candidates, totalling 300 fits\n",
      "Fitting 3 folds for each of 100 candidates, totalling 300 fits\n",
      "--------------------------------------------------\n",
      "5-fold Cross Validation Scoring\n",
      "Mean R^2 score: 0.9191783630931194\n",
      "Mean RMSE score: 20468.867336846994\n",
      "--------------------------------------------------\n"
     ]
    }
   ],
   "source": [
    "rf = RandomForestRegressor()\n",
    "\n",
    "rf_random = RandomizedSearchCV(estimator=rf, \n",
    "                               param_distributions=random_grid, \n",
    "                               n_iter=100, \n",
    "                               cv=3, \n",
    "                               verbose=1, \n",
    "                               random_state=42, \n",
    "                               n_jobs = -1)\n",
    "\n",
    "rf_random.fit(X_train, y_train)\n",
    "\n",
    "r2rmse_scores(rf_random, X_train, y_train)"
   ]
  },
  {
   "cell_type": "code",
   "execution_count": 8,
   "metadata": {},
   "outputs": [
    {
     "name": "stdout",
     "output_type": "stream",
     "text": [
      "{'bootstrap': False,\n",
      " 'max_features': 'sqrt',\n",
      " 'min_samples_split': 5,\n",
      " 'n_estimators': 50}\n"
     ]
    }
   ],
   "source": [
    "pprint(rf_random.best_params_)"
   ]
  },
  {
   "cell_type": "code",
   "execution_count": 10,
   "metadata": {},
   "outputs": [
    {
     "name": "stdout",
     "output_type": "stream",
     "text": [
      "Test score: 0.923\n",
      "RMSE Test score: 19886.4412\n"
     ]
    }
   ],
   "source": [
    "test_score = rf_random.score(X_test, y_test)\n",
    "print('Test score:', np.round(test_score, 4))\n",
    "\n",
    "rmse = mean_squared_error(y_test, rf_random.predict(X_test), squared=False)\n",
    "print('RMSE Test score:', np.round(rmse, 4))"
   ]
  },
  {
   "cell_type": "code",
   "execution_count": 11,
   "metadata": {},
   "outputs": [
    {
     "name": "stdout",
     "output_type": "stream",
     "text": [
      "4549.921173092904\n",
      "19886.44124951003\n"
     ]
    }
   ],
   "source": [
    "yhat_train = rf_random.predict(X_train)\n",
    "yhat_test = rf_random.predict(X_test)\n",
    "\n",
    "train_mse_non_log = mean_squared_error(y_train, yhat_train, squared=False)\n",
    "test_mse_non_log = mean_squared_error(y_test, yhat_test, squared=False)\n",
    "\n",
    "print(train_mse_non_log)\n",
    "print(test_mse_non_log)"
   ]
  },
  {
   "cell_type": "code",
   "execution_count": null,
   "metadata": {},
   "outputs": [],
   "source": []
  }
 ],
 "metadata": {
  "kernelspec": {
   "display_name": "Python 3",
   "language": "python",
   "name": "python3"
  },
  "language_info": {
   "codemirror_mode": {
    "name": "ipython",
    "version": 3
   },
   "file_extension": ".py",
   "mimetype": "text/x-python",
   "name": "python",
   "nbconvert_exporter": "python",
   "pygments_lexer": "ipython3",
   "version": "3.11.4"
  },
  "orig_nbformat": 4
 },
 "nbformat": 4,
 "nbformat_minor": 2
}
